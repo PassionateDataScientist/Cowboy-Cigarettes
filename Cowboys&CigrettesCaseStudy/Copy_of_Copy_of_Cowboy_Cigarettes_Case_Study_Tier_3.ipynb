{
  "cells": [
    {
      "cell_type": "markdown",
      "metadata": {
        "id": "8Sh1Hx8XW4UN"
      },
      "source": [
        "# Springboard Time Series - 'Cowboy Cigarettes' Case Study - Tier 3"
      ]
    },
    {
      "cell_type": "markdown",
      "metadata": {
        "id": "sbSameKlW4UQ"
      },
      "source": [
        "## Brief\n",
        "\n",
        "You're working in the US federal government as a data scientist in the Health and Environment department. You've been tasked with determining whether sales for the oldest and most powerful producers of cigarettes in the country are increasing or declining. \n",
        "\n",
        "**Cowboy Cigarettes (TM, *est.* 1890)** is the US's longest-running cigarette manufacturer. Like many cigarette companies, however, they haven't always been that public about their sales and marketing data. The available post-war historical data runs for only 11 years after they resumed production in 1949; stopping in 1960 before resuming again in 1970. Your job is to use the 1949-1960 data to predict whether the manufacturer's cigarette sales actually increased, decreased, or stayed the same. You need to make a probable reconstruction of the sales record of the manufacturer - predicting the future, from the perspective of the past - to contribute to a full report on US public health in relation to major cigarette companies. \n",
        "\n",
        "The results of your analysis will be used as part of a major report relating public health and local economics, and will be combined with other studies executed by your colleagues to provide important government advice.  \n",
        "\n",
        "-------------------------------\n",
        "As ever, this notebook is **tiered**, meaning you can elect that tier that is right for your confidence and skill level. There are 3 tiers, with tier 1 being the easiest and tier 3 being the hardest.  \n",
        "\n",
        "**1. Sourcing and loading** \n",
        "- Load relevant libraries \n",
        "- Load the data\n",
        "- Explore the data\n",
        "\n",
        " \n",
        "**2. Cleaning, transforming and visualizing**\n",
        "- Dropping unwanted columns\n",
        "- Nomenclature\n",
        "- Type conversions\n",
        "- Making a predictor variable `y` \n",
        "- Getting summary statistics for `y`\n",
        "- Plotting `y`\n",
        "  \n",
        "  \n",
        "**3. Modelling** \n",
        "- Decomposition\n",
        "    - Trend\n",
        "    - Seasonality\n",
        "    - Noise\n",
        "- Testing for stationarity with KPSS\n",
        "- Making the data stationary\n",
        "- The ARIMA Model\n",
        "    - Make a function to find the MSE of a single ARIMA model\n",
        "    - Make a function to evaluate the different ARIMA models with different p, d, and q values\n",
        "- Visualize the results\n",
        "- Application: Forecasting\n",
        "\n",
        "**4. Evaluating and concluding** \n",
        "- What is our conclusion?\n",
        "- Next steps\n",
        "    "
      ]
    },
    {
      "cell_type": "markdown",
      "metadata": {
        "id": "73g6m3dSW4UR"
      },
      "source": [
        "## 0. Preliminaries \n",
        "\n",
        "Time series data is just any data displaying how a single variable changes over time. It comes as a collection of metrics typically taken at regular intervals. Common examples of time series data include weekly sales data and daily stock prices. You can also easily acquire time series data from [Google Trends](https://trends.google.com/trends/?geo=US), which shows you how popular certain search terms are, measured in number of Google searches. "
      ]
    },
    {
      "cell_type": "markdown",
      "metadata": {
        "id": "YwROgr4iW4UR"
      },
      "source": [
        "## 1. Sourcing and Loading\n",
        "\n",
        "### 1a. Load relevant libraries "
      ]
    },
    {
      "cell_type": "code",
      "source": [
        "!pip install statsmodels==0.13.2 --ignore-install"
      ],
      "metadata": {
        "colab": {
          "base_uri": "https://localhost:8080/",
          "height": 592
        },
        "id": "Ve13x7vYXr3o",
        "outputId": "d50c5b0a-922e-48d9-f3e7-2b773937ed6f"
      },
      "execution_count": null,
      "outputs": [
        {
          "output_type": "stream",
          "name": "stdout",
          "text": [
            "Collecting statsmodels==0.13.2\n",
            "  Using cached statsmodels-0.13.2-cp37-cp37m-manylinux_2_17_x86_64.manylinux2014_x86_64.whl (9.8 MB)\n",
            "Collecting packaging>=21.3\n",
            "  Using cached packaging-21.3-py3-none-any.whl (40 kB)\n",
            "Collecting numpy>=1.17\n",
            "  Using cached numpy-1.21.6-cp37-cp37m-manylinux_2_12_x86_64.manylinux2010_x86_64.whl (15.7 MB)\n",
            "Collecting scipy>=1.3\n",
            "  Using cached scipy-1.7.3-cp37-cp37m-manylinux_2_12_x86_64.manylinux2010_x86_64.whl (38.1 MB)\n",
            "Collecting pandas>=0.25\n",
            "  Using cached pandas-1.3.5-cp37-cp37m-manylinux_2_17_x86_64.manylinux2014_x86_64.whl (11.3 MB)\n",
            "Collecting patsy>=0.5.2\n",
            "  Using cached patsy-0.5.2-py2.py3-none-any.whl (233 kB)\n",
            "Collecting pyparsing!=3.0.5,>=2.0.2\n",
            "  Using cached pyparsing-3.0.9-py3-none-any.whl (98 kB)\n",
            "Collecting python-dateutil>=2.7.3\n",
            "  Using cached python_dateutil-2.8.2-py2.py3-none-any.whl (247 kB)\n",
            "Collecting pytz>=2017.3\n",
            "  Using cached pytz-2022.1-py2.py3-none-any.whl (503 kB)\n",
            "Collecting six\n",
            "  Using cached six-1.16.0-py2.py3-none-any.whl (11 kB)\n",
            "Installing collected packages: six, pytz, python-dateutil, pyparsing, numpy, scipy, patsy, pandas, packaging, statsmodels\n",
            "\u001b[31mERROR: pip's dependency resolver does not currently take into account all the packages that are installed. This behaviour is the source of the following dependency conflicts.\n",
            "tensorflow 2.8.0 requires tf-estimator-nightly==2.8.0.dev2021122109, which is not installed.\n",
            "google-colab 1.0.0 requires six~=1.15.0, but you have six 1.16.0 which is incompatible.\n",
            "datascience 0.10.6 requires folium==0.2.1, but you have folium 0.8.3 which is incompatible.\n",
            "albumentations 0.1.12 requires imgaug<0.2.7,>=0.2.5, but you have imgaug 0.2.9 which is incompatible.\u001b[0m\n",
            "Successfully installed numpy-1.21.6 packaging-21.3 pandas-1.3.5 patsy-0.5.2 pyparsing-3.0.9 python-dateutil-2.8.2 pytz-2022.1 scipy-1.7.3 six-1.16.0 statsmodels-0.13.2\n"
          ]
        },
        {
          "output_type": "display_data",
          "data": {
            "application/vnd.colab-display-data+json": {
              "pip_warning": {
                "packages": [
                  "dateutil",
                  "numpy",
                  "packaging",
                  "pandas",
                  "patsy",
                  "pytz",
                  "scipy",
                  "six",
                  "statsmodels"
                ]
              }
            }
          },
          "metadata": {}
        }
      ]
    },
    {
      "cell_type": "code",
      "source": [
        "import statsmodels\n",
        "statsmodels.__version__"
      ],
      "metadata": {
        "colab": {
          "base_uri": "https://localhost:8080/",
          "height": 35
        },
        "id": "fvXmpvcEXoOJ",
        "outputId": "168af0ee-68d9-41c7-9af2-3f84e38cecd2"
      },
      "execution_count": null,
      "outputs": [
        {
          "output_type": "execute_result",
          "data": {
            "text/plain": [
              "'0.13.2'"
            ],
            "application/vnd.google.colaboratory.intrinsic+json": {
              "type": "string"
            }
          },
          "metadata": {},
          "execution_count": 10
        }
      ]
    },
    {
      "cell_type": "code",
      "execution_count": null,
      "metadata": {
        "id": "nzsk9aOoW4US"
      },
      "outputs": [],
      "source": [
        "import pandas as pd\n",
        "import numpy as np\n",
        "import seaborn as sns\n",
        "import warnings\n",
        "import matplotlib.pyplot as plt\n",
        "warnings.filterwarnings(\"ignore\")\n",
        "plt.rcParams['figure.figsize'] = (10, 5)\n",
        "import statsmodels.api as sm\n",
        "import matplotlib.pyplot as plt\n",
        "from statsmodels.tsa.stattools import acf\n",
        "from statsmodels.graphics.tsaplots import plot_acf\n",
        "from statsmodels.graphics.tsaplots import plot_pacf\n",
        "from math import sqrt\n",
        "from statsmodels.tsa.arima_process import ArmaProcess\n",
        "from statsmodels.tsa.arima.model import ARIMA\n",
        "import datetime"
      ]
    },
    {
      "cell_type": "code",
      "source": [
        "import statsmodels"
      ],
      "metadata": {
        "id": "ACsxG9NaXgWH"
      },
      "execution_count": null,
      "outputs": []
    },
    {
      "cell_type": "code",
      "source": [
        ""
      ],
      "metadata": {
        "id": "22bg6cBHtNc9",
        "outputId": "5358ab0c-d540-4a31-d638-e6a589d8fa35",
        "colab": {
          "base_uri": "https://localhost:8080/"
        }
      },
      "execution_count": null,
      "outputs": [
        {
          "output_type": "stream",
          "name": "stdout",
          "text": [
            "Mounted at /content/drive\n"
          ]
        }
      ]
    },
    {
      "cell_type": "markdown",
      "metadata": {
        "id": "zCc2sxT3W4UT"
      },
      "source": [
        "### 1b. Load the data\n",
        "Call the variable `cigData`. "
      ]
    },
    {
      "cell_type": "code",
      "execution_count": 12,
      "metadata": {
        "id": "dKNYpEtdW4UT"
      },
      "outputs": [],
      "source": [
        "cigData = pd.read_csv(\"./CowboyCigsData.csv\")\n"
      ]
    },
    {
      "cell_type": "markdown",
      "metadata": {
        "id": "iHFoHzdpW4UU"
      },
      "source": [
        "### 1c. Explore the data\n",
        "We now need to check whether the data conduces to a time series style analysis."
      ]
    },
    {
      "cell_type": "code",
      "execution_count": 14,
      "metadata": {
        "scrolled": true,
        "id": "tOn6iDgjW4UU",
        "outputId": "aab80f8d-6b81-413b-a442-df52049f7e7d",
        "colab": {
          "base_uri": "https://localhost:8080/",
          "height": 206
        }
      },
      "outputs": [
        {
          "output_type": "execute_result",
          "data": {
            "text/plain": [
              "   Unnamed: 0     Time  #CigSales\n",
              "0           0  1949-01    1000112\n",
              "1           1  1949-02    1000118\n",
              "2           2  1949-03    1000132\n",
              "3           3  1949-04    1000129\n",
              "4           4  1949-05    1000121"
            ],
            "text/html": [
              "\n",
              "  <div id=\"df-52d0be4f-82f6-4c31-8cc0-06f742dd2df6\">\n",
              "    <div class=\"colab-df-container\">\n",
              "      <div>\n",
              "<style scoped>\n",
              "    .dataframe tbody tr th:only-of-type {\n",
              "        vertical-align: middle;\n",
              "    }\n",
              "\n",
              "    .dataframe tbody tr th {\n",
              "        vertical-align: top;\n",
              "    }\n",
              "\n",
              "    .dataframe thead th {\n",
              "        text-align: right;\n",
              "    }\n",
              "</style>\n",
              "<table border=\"1\" class=\"dataframe\">\n",
              "  <thead>\n",
              "    <tr style=\"text-align: right;\">\n",
              "      <th></th>\n",
              "      <th>Unnamed: 0</th>\n",
              "      <th>Time</th>\n",
              "      <th>#CigSales</th>\n",
              "    </tr>\n",
              "  </thead>\n",
              "  <tbody>\n",
              "    <tr>\n",
              "      <th>0</th>\n",
              "      <td>0</td>\n",
              "      <td>1949-01</td>\n",
              "      <td>1000112</td>\n",
              "    </tr>\n",
              "    <tr>\n",
              "      <th>1</th>\n",
              "      <td>1</td>\n",
              "      <td>1949-02</td>\n",
              "      <td>1000118</td>\n",
              "    </tr>\n",
              "    <tr>\n",
              "      <th>2</th>\n",
              "      <td>2</td>\n",
              "      <td>1949-03</td>\n",
              "      <td>1000132</td>\n",
              "    </tr>\n",
              "    <tr>\n",
              "      <th>3</th>\n",
              "      <td>3</td>\n",
              "      <td>1949-04</td>\n",
              "      <td>1000129</td>\n",
              "    </tr>\n",
              "    <tr>\n",
              "      <th>4</th>\n",
              "      <td>4</td>\n",
              "      <td>1949-05</td>\n",
              "      <td>1000121</td>\n",
              "    </tr>\n",
              "  </tbody>\n",
              "</table>\n",
              "</div>\n",
              "      <button class=\"colab-df-convert\" onclick=\"convertToInteractive('df-52d0be4f-82f6-4c31-8cc0-06f742dd2df6')\"\n",
              "              title=\"Convert this dataframe to an interactive table.\"\n",
              "              style=\"display:none;\">\n",
              "        \n",
              "  <svg xmlns=\"http://www.w3.org/2000/svg\" height=\"24px\"viewBox=\"0 0 24 24\"\n",
              "       width=\"24px\">\n",
              "    <path d=\"M0 0h24v24H0V0z\" fill=\"none\"/>\n",
              "    <path d=\"M18.56 5.44l.94 2.06.94-2.06 2.06-.94-2.06-.94-.94-2.06-.94 2.06-2.06.94zm-11 1L8.5 8.5l.94-2.06 2.06-.94-2.06-.94L8.5 2.5l-.94 2.06-2.06.94zm10 10l.94 2.06.94-2.06 2.06-.94-2.06-.94-.94-2.06-.94 2.06-2.06.94z\"/><path d=\"M17.41 7.96l-1.37-1.37c-.4-.4-.92-.59-1.43-.59-.52 0-1.04.2-1.43.59L10.3 9.45l-7.72 7.72c-.78.78-.78 2.05 0 2.83L4 21.41c.39.39.9.59 1.41.59.51 0 1.02-.2 1.41-.59l7.78-7.78 2.81-2.81c.8-.78.8-2.07 0-2.86zM5.41 20L4 18.59l7.72-7.72 1.47 1.35L5.41 20z\"/>\n",
              "  </svg>\n",
              "      </button>\n",
              "      \n",
              "  <style>\n",
              "    .colab-df-container {\n",
              "      display:flex;\n",
              "      flex-wrap:wrap;\n",
              "      gap: 12px;\n",
              "    }\n",
              "\n",
              "    .colab-df-convert {\n",
              "      background-color: #E8F0FE;\n",
              "      border: none;\n",
              "      border-radius: 50%;\n",
              "      cursor: pointer;\n",
              "      display: none;\n",
              "      fill: #1967D2;\n",
              "      height: 32px;\n",
              "      padding: 0 0 0 0;\n",
              "      width: 32px;\n",
              "    }\n",
              "\n",
              "    .colab-df-convert:hover {\n",
              "      background-color: #E2EBFA;\n",
              "      box-shadow: 0px 1px 2px rgba(60, 64, 67, 0.3), 0px 1px 3px 1px rgba(60, 64, 67, 0.15);\n",
              "      fill: #174EA6;\n",
              "    }\n",
              "\n",
              "    [theme=dark] .colab-df-convert {\n",
              "      background-color: #3B4455;\n",
              "      fill: #D2E3FC;\n",
              "    }\n",
              "\n",
              "    [theme=dark] .colab-df-convert:hover {\n",
              "      background-color: #434B5C;\n",
              "      box-shadow: 0px 1px 3px 1px rgba(0, 0, 0, 0.15);\n",
              "      filter: drop-shadow(0px 1px 2px rgba(0, 0, 0, 0.3));\n",
              "      fill: #FFFFFF;\n",
              "    }\n",
              "  </style>\n",
              "\n",
              "      <script>\n",
              "        const buttonEl =\n",
              "          document.querySelector('#df-52d0be4f-82f6-4c31-8cc0-06f742dd2df6 button.colab-df-convert');\n",
              "        buttonEl.style.display =\n",
              "          google.colab.kernel.accessAllowed ? 'block' : 'none';\n",
              "\n",
              "        async function convertToInteractive(key) {\n",
              "          const element = document.querySelector('#df-52d0be4f-82f6-4c31-8cc0-06f742dd2df6');\n",
              "          const dataTable =\n",
              "            await google.colab.kernel.invokeFunction('convertToInteractive',\n",
              "                                                     [key], {});\n",
              "          if (!dataTable) return;\n",
              "\n",
              "          const docLinkHtml = 'Like what you see? Visit the ' +\n",
              "            '<a target=\"_blank\" href=https://colab.research.google.com/notebooks/data_table.ipynb>data table notebook</a>'\n",
              "            + ' to learn more about interactive tables.';\n",
              "          element.innerHTML = '';\n",
              "          dataTable['output_type'] = 'display_data';\n",
              "          await google.colab.output.renderOutput(dataTable, element);\n",
              "          const docLink = document.createElement('div');\n",
              "          docLink.innerHTML = docLinkHtml;\n",
              "          element.appendChild(docLink);\n",
              "        }\n",
              "      </script>\n",
              "    </div>\n",
              "  </div>\n",
              "  "
            ]
          },
          "metadata": {},
          "execution_count": 14
        }
      ],
      "source": [
        "cigData.head()"
      ]
    },
    {
      "cell_type": "markdown",
      "metadata": {
        "id": "mHhJn8RxW4UV"
      },
      "source": [
        "Over a million cigarettes sold in the month of January 1949. This certainly is a popular cigarette brand. "
      ]
    },
    {
      "cell_type": "markdown",
      "metadata": {
        "id": "XcVnnLcUW4UV"
      },
      "source": [
        "Check out the columns feature of the data. How many columns are there? "
      ]
    },
    {
      "cell_type": "code",
      "execution_count": 15,
      "metadata": {
        "id": "1tiUpFjBW4UW",
        "outputId": "4eac1ce8-be9f-4f62-e4c7-029f95d86fe2",
        "colab": {
          "base_uri": "https://localhost:8080/"
        }
      },
      "outputs": [
        {
          "output_type": "execute_result",
          "data": {
            "text/plain": [
              "3"
            ]
          },
          "metadata": {},
          "execution_count": 15
        }
      ],
      "source": [
        "len(cigData.columns)"
      ]
    },
    {
      "cell_type": "markdown",
      "metadata": {
        "id": "MUjsG2rkW4UW"
      },
      "source": [
        "Let's check out the data types of our columns."
      ]
    },
    {
      "cell_type": "code",
      "execution_count": 16,
      "metadata": {
        "scrolled": false,
        "id": "kcHzEHFLW4UW",
        "outputId": "5a001eb0-1f8f-451f-b86c-173b60d65754",
        "colab": {
          "base_uri": "https://localhost:8080/"
        }
      },
      "outputs": [
        {
          "output_type": "execute_result",
          "data": {
            "text/plain": [
              "Unnamed: 0     int64\n",
              "Time          object\n",
              "#CigSales      int64\n",
              "dtype: object"
            ]
          },
          "metadata": {},
          "execution_count": 16
        }
      ],
      "source": [
        "cigData.dtypes"
      ]
    },
    {
      "cell_type": "markdown",
      "metadata": {
        "id": "np3xHecJW4UW"
      },
      "source": [
        "Check whether there are any null values. "
      ]
    },
    {
      "cell_type": "code",
      "execution_count": 17,
      "metadata": {
        "id": "SL8w-gNlW4UX",
        "outputId": "3574a880-c56e-4fd3-a846-0070c6dad266",
        "colab": {
          "base_uri": "https://localhost:8080/"
        }
      },
      "outputs": [
        {
          "output_type": "execute_result",
          "data": {
            "text/plain": [
              "False"
            ]
          },
          "metadata": {},
          "execution_count": 17
        }
      ],
      "source": [
        "cigData.isnull().values.any()"
      ]
    },
    {
      "cell_type": "markdown",
      "metadata": {
        "id": "Gvp47YbLW4UX"
      },
      "source": [
        "## 2. Cleaning, transforming and visualizing"
      ]
    },
    {
      "cell_type": "markdown",
      "metadata": {
        "id": "_nXODFU9W4UY"
      },
      "source": [
        "### 2a. Dropping unwanted columns\n",
        "We need to cut that `Unnamed: 0` column. Delete it here."
      ]
    },
    {
      "cell_type": "code",
      "execution_count": 18,
      "metadata": {
        "id": "lkWVUlgeW4UY",
        "outputId": "c4d2d2ad-7644-4370-812b-8675bac87aab",
        "colab": {
          "base_uri": "https://localhost:8080/",
          "height": 206
        }
      },
      "outputs": [
        {
          "output_type": "execute_result",
          "data": {
            "text/plain": [
              "      Time  #CigSales\n",
              "0  1949-01    1000112\n",
              "1  1949-02    1000118\n",
              "2  1949-03    1000132\n",
              "3  1949-04    1000129\n",
              "4  1949-05    1000121"
            ],
            "text/html": [
              "\n",
              "  <div id=\"df-7c9c01c0-2c46-45e1-b545-e803dc2f3156\">\n",
              "    <div class=\"colab-df-container\">\n",
              "      <div>\n",
              "<style scoped>\n",
              "    .dataframe tbody tr th:only-of-type {\n",
              "        vertical-align: middle;\n",
              "    }\n",
              "\n",
              "    .dataframe tbody tr th {\n",
              "        vertical-align: top;\n",
              "    }\n",
              "\n",
              "    .dataframe thead th {\n",
              "        text-align: right;\n",
              "    }\n",
              "</style>\n",
              "<table border=\"1\" class=\"dataframe\">\n",
              "  <thead>\n",
              "    <tr style=\"text-align: right;\">\n",
              "      <th></th>\n",
              "      <th>Time</th>\n",
              "      <th>#CigSales</th>\n",
              "    </tr>\n",
              "  </thead>\n",
              "  <tbody>\n",
              "    <tr>\n",
              "      <th>0</th>\n",
              "      <td>1949-01</td>\n",
              "      <td>1000112</td>\n",
              "    </tr>\n",
              "    <tr>\n",
              "      <th>1</th>\n",
              "      <td>1949-02</td>\n",
              "      <td>1000118</td>\n",
              "    </tr>\n",
              "    <tr>\n",
              "      <th>2</th>\n",
              "      <td>1949-03</td>\n",
              "      <td>1000132</td>\n",
              "    </tr>\n",
              "    <tr>\n",
              "      <th>3</th>\n",
              "      <td>1949-04</td>\n",
              "      <td>1000129</td>\n",
              "    </tr>\n",
              "    <tr>\n",
              "      <th>4</th>\n",
              "      <td>1949-05</td>\n",
              "      <td>1000121</td>\n",
              "    </tr>\n",
              "  </tbody>\n",
              "</table>\n",
              "</div>\n",
              "      <button class=\"colab-df-convert\" onclick=\"convertToInteractive('df-7c9c01c0-2c46-45e1-b545-e803dc2f3156')\"\n",
              "              title=\"Convert this dataframe to an interactive table.\"\n",
              "              style=\"display:none;\">\n",
              "        \n",
              "  <svg xmlns=\"http://www.w3.org/2000/svg\" height=\"24px\"viewBox=\"0 0 24 24\"\n",
              "       width=\"24px\">\n",
              "    <path d=\"M0 0h24v24H0V0z\" fill=\"none\"/>\n",
              "    <path d=\"M18.56 5.44l.94 2.06.94-2.06 2.06-.94-2.06-.94-.94-2.06-.94 2.06-2.06.94zm-11 1L8.5 8.5l.94-2.06 2.06-.94-2.06-.94L8.5 2.5l-.94 2.06-2.06.94zm10 10l.94 2.06.94-2.06 2.06-.94-2.06-.94-.94-2.06-.94 2.06-2.06.94z\"/><path d=\"M17.41 7.96l-1.37-1.37c-.4-.4-.92-.59-1.43-.59-.52 0-1.04.2-1.43.59L10.3 9.45l-7.72 7.72c-.78.78-.78 2.05 0 2.83L4 21.41c.39.39.9.59 1.41.59.51 0 1.02-.2 1.41-.59l7.78-7.78 2.81-2.81c.8-.78.8-2.07 0-2.86zM5.41 20L4 18.59l7.72-7.72 1.47 1.35L5.41 20z\"/>\n",
              "  </svg>\n",
              "      </button>\n",
              "      \n",
              "  <style>\n",
              "    .colab-df-container {\n",
              "      display:flex;\n",
              "      flex-wrap:wrap;\n",
              "      gap: 12px;\n",
              "    }\n",
              "\n",
              "    .colab-df-convert {\n",
              "      background-color: #E8F0FE;\n",
              "      border: none;\n",
              "      border-radius: 50%;\n",
              "      cursor: pointer;\n",
              "      display: none;\n",
              "      fill: #1967D2;\n",
              "      height: 32px;\n",
              "      padding: 0 0 0 0;\n",
              "      width: 32px;\n",
              "    }\n",
              "\n",
              "    .colab-df-convert:hover {\n",
              "      background-color: #E2EBFA;\n",
              "      box-shadow: 0px 1px 2px rgba(60, 64, 67, 0.3), 0px 1px 3px 1px rgba(60, 64, 67, 0.15);\n",
              "      fill: #174EA6;\n",
              "    }\n",
              "\n",
              "    [theme=dark] .colab-df-convert {\n",
              "      background-color: #3B4455;\n",
              "      fill: #D2E3FC;\n",
              "    }\n",
              "\n",
              "    [theme=dark] .colab-df-convert:hover {\n",
              "      background-color: #434B5C;\n",
              "      box-shadow: 0px 1px 3px 1px rgba(0, 0, 0, 0.15);\n",
              "      filter: drop-shadow(0px 1px 2px rgba(0, 0, 0, 0.3));\n",
              "      fill: #FFFFFF;\n",
              "    }\n",
              "  </style>\n",
              "\n",
              "      <script>\n",
              "        const buttonEl =\n",
              "          document.querySelector('#df-7c9c01c0-2c46-45e1-b545-e803dc2f3156 button.colab-df-convert');\n",
              "        buttonEl.style.display =\n",
              "          google.colab.kernel.accessAllowed ? 'block' : 'none';\n",
              "\n",
              "        async function convertToInteractive(key) {\n",
              "          const element = document.querySelector('#df-7c9c01c0-2c46-45e1-b545-e803dc2f3156');\n",
              "          const dataTable =\n",
              "            await google.colab.kernel.invokeFunction('convertToInteractive',\n",
              "                                                     [key], {});\n",
              "          if (!dataTable) return;\n",
              "\n",
              "          const docLinkHtml = 'Like what you see? Visit the ' +\n",
              "            '<a target=\"_blank\" href=https://colab.research.google.com/notebooks/data_table.ipynb>data table notebook</a>'\n",
              "            + ' to learn more about interactive tables.';\n",
              "          element.innerHTML = '';\n",
              "          dataTable['output_type'] = 'display_data';\n",
              "          await google.colab.output.renderOutput(dataTable, element);\n",
              "          const docLink = document.createElement('div');\n",
              "          docLink.innerHTML = docLinkHtml;\n",
              "          element.appendChild(docLink);\n",
              "        }\n",
              "      </script>\n",
              "    </div>\n",
              "  </div>\n",
              "  "
            ]
          },
          "metadata": {},
          "execution_count": 18
        }
      ],
      "source": [
        "cigData.drop(\"Unnamed: 0\",axis=1, inplace=True)\n",
        "cigData.head()"
      ]
    },
    {
      "cell_type": "markdown",
      "metadata": {
        "id": "syVkBwWVW4UY"
      },
      "source": [
        "### 2b. Nomenclature"
      ]
    },
    {
      "cell_type": "markdown",
      "metadata": {
        "id": "LrcPmrPcW4UY"
      },
      "source": [
        "We can see that the `Time` column actually has the granularity of months. Change the name of that column to `Month`."
      ]
    },
    {
      "cell_type": "code",
      "execution_count": 19,
      "metadata": {
        "id": "5GyFEmYvW4UY"
      },
      "outputs": [],
      "source": [
        "cigData.rename(columns={'Time': 'Month'}, inplace=True) "
      ]
    },
    {
      "cell_type": "markdown",
      "metadata": {
        "id": "nc4dkiStW4UY"
      },
      "source": [
        "Call a head() to check this has worked. "
      ]
    },
    {
      "cell_type": "code",
      "execution_count": 20,
      "metadata": {
        "id": "mEXz2Ry-W4UZ",
        "outputId": "ef0d7bb2-e23f-4877-cbb9-a71039748598",
        "colab": {
          "base_uri": "https://localhost:8080/",
          "height": 206
        }
      },
      "outputs": [
        {
          "output_type": "execute_result",
          "data": {
            "text/plain": [
              "     Month  #CigSales\n",
              "0  1949-01    1000112\n",
              "1  1949-02    1000118\n",
              "2  1949-03    1000132\n",
              "3  1949-04    1000129\n",
              "4  1949-05    1000121"
            ],
            "text/html": [
              "\n",
              "  <div id=\"df-6fce5717-77a1-45f7-8c6d-85152fd415a7\">\n",
              "    <div class=\"colab-df-container\">\n",
              "      <div>\n",
              "<style scoped>\n",
              "    .dataframe tbody tr th:only-of-type {\n",
              "        vertical-align: middle;\n",
              "    }\n",
              "\n",
              "    .dataframe tbody tr th {\n",
              "        vertical-align: top;\n",
              "    }\n",
              "\n",
              "    .dataframe thead th {\n",
              "        text-align: right;\n",
              "    }\n",
              "</style>\n",
              "<table border=\"1\" class=\"dataframe\">\n",
              "  <thead>\n",
              "    <tr style=\"text-align: right;\">\n",
              "      <th></th>\n",
              "      <th>Month</th>\n",
              "      <th>#CigSales</th>\n",
              "    </tr>\n",
              "  </thead>\n",
              "  <tbody>\n",
              "    <tr>\n",
              "      <th>0</th>\n",
              "      <td>1949-01</td>\n",
              "      <td>1000112</td>\n",
              "    </tr>\n",
              "    <tr>\n",
              "      <th>1</th>\n",
              "      <td>1949-02</td>\n",
              "      <td>1000118</td>\n",
              "    </tr>\n",
              "    <tr>\n",
              "      <th>2</th>\n",
              "      <td>1949-03</td>\n",
              "      <td>1000132</td>\n",
              "    </tr>\n",
              "    <tr>\n",
              "      <th>3</th>\n",
              "      <td>1949-04</td>\n",
              "      <td>1000129</td>\n",
              "    </tr>\n",
              "    <tr>\n",
              "      <th>4</th>\n",
              "      <td>1949-05</td>\n",
              "      <td>1000121</td>\n",
              "    </tr>\n",
              "  </tbody>\n",
              "</table>\n",
              "</div>\n",
              "      <button class=\"colab-df-convert\" onclick=\"convertToInteractive('df-6fce5717-77a1-45f7-8c6d-85152fd415a7')\"\n",
              "              title=\"Convert this dataframe to an interactive table.\"\n",
              "              style=\"display:none;\">\n",
              "        \n",
              "  <svg xmlns=\"http://www.w3.org/2000/svg\" height=\"24px\"viewBox=\"0 0 24 24\"\n",
              "       width=\"24px\">\n",
              "    <path d=\"M0 0h24v24H0V0z\" fill=\"none\"/>\n",
              "    <path d=\"M18.56 5.44l.94 2.06.94-2.06 2.06-.94-2.06-.94-.94-2.06-.94 2.06-2.06.94zm-11 1L8.5 8.5l.94-2.06 2.06-.94-2.06-.94L8.5 2.5l-.94 2.06-2.06.94zm10 10l.94 2.06.94-2.06 2.06-.94-2.06-.94-.94-2.06-.94 2.06-2.06.94z\"/><path d=\"M17.41 7.96l-1.37-1.37c-.4-.4-.92-.59-1.43-.59-.52 0-1.04.2-1.43.59L10.3 9.45l-7.72 7.72c-.78.78-.78 2.05 0 2.83L4 21.41c.39.39.9.59 1.41.59.51 0 1.02-.2 1.41-.59l7.78-7.78 2.81-2.81c.8-.78.8-2.07 0-2.86zM5.41 20L4 18.59l7.72-7.72 1.47 1.35L5.41 20z\"/>\n",
              "  </svg>\n",
              "      </button>\n",
              "      \n",
              "  <style>\n",
              "    .colab-df-container {\n",
              "      display:flex;\n",
              "      flex-wrap:wrap;\n",
              "      gap: 12px;\n",
              "    }\n",
              "\n",
              "    .colab-df-convert {\n",
              "      background-color: #E8F0FE;\n",
              "      border: none;\n",
              "      border-radius: 50%;\n",
              "      cursor: pointer;\n",
              "      display: none;\n",
              "      fill: #1967D2;\n",
              "      height: 32px;\n",
              "      padding: 0 0 0 0;\n",
              "      width: 32px;\n",
              "    }\n",
              "\n",
              "    .colab-df-convert:hover {\n",
              "      background-color: #E2EBFA;\n",
              "      box-shadow: 0px 1px 2px rgba(60, 64, 67, 0.3), 0px 1px 3px 1px rgba(60, 64, 67, 0.15);\n",
              "      fill: #174EA6;\n",
              "    }\n",
              "\n",
              "    [theme=dark] .colab-df-convert {\n",
              "      background-color: #3B4455;\n",
              "      fill: #D2E3FC;\n",
              "    }\n",
              "\n",
              "    [theme=dark] .colab-df-convert:hover {\n",
              "      background-color: #434B5C;\n",
              "      box-shadow: 0px 1px 3px 1px rgba(0, 0, 0, 0.15);\n",
              "      filter: drop-shadow(0px 1px 2px rgba(0, 0, 0, 0.3));\n",
              "      fill: #FFFFFF;\n",
              "    }\n",
              "  </style>\n",
              "\n",
              "      <script>\n",
              "        const buttonEl =\n",
              "          document.querySelector('#df-6fce5717-77a1-45f7-8c6d-85152fd415a7 button.colab-df-convert');\n",
              "        buttonEl.style.display =\n",
              "          google.colab.kernel.accessAllowed ? 'block' : 'none';\n",
              "\n",
              "        async function convertToInteractive(key) {\n",
              "          const element = document.querySelector('#df-6fce5717-77a1-45f7-8c6d-85152fd415a7');\n",
              "          const dataTable =\n",
              "            await google.colab.kernel.invokeFunction('convertToInteractive',\n",
              "                                                     [key], {});\n",
              "          if (!dataTable) return;\n",
              "\n",
              "          const docLinkHtml = 'Like what you see? Visit the ' +\n",
              "            '<a target=\"_blank\" href=https://colab.research.google.com/notebooks/data_table.ipynb>data table notebook</a>'\n",
              "            + ' to learn more about interactive tables.';\n",
              "          element.innerHTML = '';\n",
              "          dataTable['output_type'] = 'display_data';\n",
              "          await google.colab.output.renderOutput(dataTable, element);\n",
              "          const docLink = document.createElement('div');\n",
              "          docLink.innerHTML = docLinkHtml;\n",
              "          element.appendChild(docLink);\n",
              "        }\n",
              "      </script>\n",
              "    </div>\n",
              "  </div>\n",
              "  "
            ]
          },
          "metadata": {},
          "execution_count": 20
        }
      ],
      "source": [
        "cigData.head()"
      ]
    },
    {
      "cell_type": "markdown",
      "metadata": {
        "id": "80ewTClbW4UZ"
      },
      "source": [
        "### 2c. Type conversions "
      ]
    },
    {
      "cell_type": "markdown",
      "metadata": {
        "id": "Actb5VdeW4UZ"
      },
      "source": [
        "Now, do time series analysis on a Pandas dataframe is overkill, and is actually counter-productive. It's much more easy to carry out this type of analysis if we convert our data to a series first.\n",
        "\n",
        "Notice that the `Month` field was an object. Let's type convert the `Month` column to a Python `datetime`, before making that the index."
      ]
    },
    {
      "cell_type": "code",
      "execution_count": 21,
      "metadata": {
        "id": "4c4B6awZW4UZ",
        "outputId": "f0c4d7d6-1fa7-4833-c499-0c46e106f4b1",
        "colab": {
          "base_uri": "https://localhost:8080/",
          "height": 237
        }
      },
      "outputs": [
        {
          "output_type": "execute_result",
          "data": {
            "text/plain": [
              "            #CigSales\n",
              "Month                \n",
              "1949-01-01    1000112\n",
              "1949-02-01    1000118\n",
              "1949-03-01    1000132\n",
              "1949-04-01    1000129\n",
              "1949-05-01    1000121"
            ],
            "text/html": [
              "\n",
              "  <div id=\"df-88d4bcaf-8737-41db-b9b7-4bbd7c2df736\">\n",
              "    <div class=\"colab-df-container\">\n",
              "      <div>\n",
              "<style scoped>\n",
              "    .dataframe tbody tr th:only-of-type {\n",
              "        vertical-align: middle;\n",
              "    }\n",
              "\n",
              "    .dataframe tbody tr th {\n",
              "        vertical-align: top;\n",
              "    }\n",
              "\n",
              "    .dataframe thead th {\n",
              "        text-align: right;\n",
              "    }\n",
              "</style>\n",
              "<table border=\"1\" class=\"dataframe\">\n",
              "  <thead>\n",
              "    <tr style=\"text-align: right;\">\n",
              "      <th></th>\n",
              "      <th>#CigSales</th>\n",
              "    </tr>\n",
              "    <tr>\n",
              "      <th>Month</th>\n",
              "      <th></th>\n",
              "    </tr>\n",
              "  </thead>\n",
              "  <tbody>\n",
              "    <tr>\n",
              "      <th>1949-01-01</th>\n",
              "      <td>1000112</td>\n",
              "    </tr>\n",
              "    <tr>\n",
              "      <th>1949-02-01</th>\n",
              "      <td>1000118</td>\n",
              "    </tr>\n",
              "    <tr>\n",
              "      <th>1949-03-01</th>\n",
              "      <td>1000132</td>\n",
              "    </tr>\n",
              "    <tr>\n",
              "      <th>1949-04-01</th>\n",
              "      <td>1000129</td>\n",
              "    </tr>\n",
              "    <tr>\n",
              "      <th>1949-05-01</th>\n",
              "      <td>1000121</td>\n",
              "    </tr>\n",
              "  </tbody>\n",
              "</table>\n",
              "</div>\n",
              "      <button class=\"colab-df-convert\" onclick=\"convertToInteractive('df-88d4bcaf-8737-41db-b9b7-4bbd7c2df736')\"\n",
              "              title=\"Convert this dataframe to an interactive table.\"\n",
              "              style=\"display:none;\">\n",
              "        \n",
              "  <svg xmlns=\"http://www.w3.org/2000/svg\" height=\"24px\"viewBox=\"0 0 24 24\"\n",
              "       width=\"24px\">\n",
              "    <path d=\"M0 0h24v24H0V0z\" fill=\"none\"/>\n",
              "    <path d=\"M18.56 5.44l.94 2.06.94-2.06 2.06-.94-2.06-.94-.94-2.06-.94 2.06-2.06.94zm-11 1L8.5 8.5l.94-2.06 2.06-.94-2.06-.94L8.5 2.5l-.94 2.06-2.06.94zm10 10l.94 2.06.94-2.06 2.06-.94-2.06-.94-.94-2.06-.94 2.06-2.06.94z\"/><path d=\"M17.41 7.96l-1.37-1.37c-.4-.4-.92-.59-1.43-.59-.52 0-1.04.2-1.43.59L10.3 9.45l-7.72 7.72c-.78.78-.78 2.05 0 2.83L4 21.41c.39.39.9.59 1.41.59.51 0 1.02-.2 1.41-.59l7.78-7.78 2.81-2.81c.8-.78.8-2.07 0-2.86zM5.41 20L4 18.59l7.72-7.72 1.47 1.35L5.41 20z\"/>\n",
              "  </svg>\n",
              "      </button>\n",
              "      \n",
              "  <style>\n",
              "    .colab-df-container {\n",
              "      display:flex;\n",
              "      flex-wrap:wrap;\n",
              "      gap: 12px;\n",
              "    }\n",
              "\n",
              "    .colab-df-convert {\n",
              "      background-color: #E8F0FE;\n",
              "      border: none;\n",
              "      border-radius: 50%;\n",
              "      cursor: pointer;\n",
              "      display: none;\n",
              "      fill: #1967D2;\n",
              "      height: 32px;\n",
              "      padding: 0 0 0 0;\n",
              "      width: 32px;\n",
              "    }\n",
              "\n",
              "    .colab-df-convert:hover {\n",
              "      background-color: #E2EBFA;\n",
              "      box-shadow: 0px 1px 2px rgba(60, 64, 67, 0.3), 0px 1px 3px 1px rgba(60, 64, 67, 0.15);\n",
              "      fill: #174EA6;\n",
              "    }\n",
              "\n",
              "    [theme=dark] .colab-df-convert {\n",
              "      background-color: #3B4455;\n",
              "      fill: #D2E3FC;\n",
              "    }\n",
              "\n",
              "    [theme=dark] .colab-df-convert:hover {\n",
              "      background-color: #434B5C;\n",
              "      box-shadow: 0px 1px 3px 1px rgba(0, 0, 0, 0.15);\n",
              "      filter: drop-shadow(0px 1px 2px rgba(0, 0, 0, 0.3));\n",
              "      fill: #FFFFFF;\n",
              "    }\n",
              "  </style>\n",
              "\n",
              "      <script>\n",
              "        const buttonEl =\n",
              "          document.querySelector('#df-88d4bcaf-8737-41db-b9b7-4bbd7c2df736 button.colab-df-convert');\n",
              "        buttonEl.style.display =\n",
              "          google.colab.kernel.accessAllowed ? 'block' : 'none';\n",
              "\n",
              "        async function convertToInteractive(key) {\n",
              "          const element = document.querySelector('#df-88d4bcaf-8737-41db-b9b7-4bbd7c2df736');\n",
              "          const dataTable =\n",
              "            await google.colab.kernel.invokeFunction('convertToInteractive',\n",
              "                                                     [key], {});\n",
              "          if (!dataTable) return;\n",
              "\n",
              "          const docLinkHtml = 'Like what you see? Visit the ' +\n",
              "            '<a target=\"_blank\" href=https://colab.research.google.com/notebooks/data_table.ipynb>data table notebook</a>'\n",
              "            + ' to learn more about interactive tables.';\n",
              "          element.innerHTML = '';\n",
              "          dataTable['output_type'] = 'display_data';\n",
              "          await google.colab.output.renderOutput(dataTable, element);\n",
              "          const docLink = document.createElement('div');\n",
              "          docLink.innerHTML = docLinkHtml;\n",
              "          element.appendChild(docLink);\n",
              "        }\n",
              "      </script>\n",
              "    </div>\n",
              "  </div>\n",
              "  "
            ]
          },
          "metadata": {},
          "execution_count": 21
        }
      ],
      "source": [
        "cigData['Month'] = pd.to_datetime(cigData['Month'])\n",
        "cigData.set_index('Month', inplace = True)\n",
        "cigData.head()"
      ]
    },
    {
      "cell_type": "markdown",
      "metadata": {
        "id": "J40DKKw3W4UZ"
      },
      "source": [
        "Perfect! "
      ]
    },
    {
      "cell_type": "markdown",
      "metadata": {
        "id": "IHDAOCh7W4Ua"
      },
      "source": [
        "### 2d. Making a predictor variable `y`"
      ]
    },
    {
      "cell_type": "markdown",
      "metadata": {
        "id": "LqgAJpV0W4Ua"
      },
      "source": [
        "The data is now indexed by date, as time series data ought to be.\n",
        "\n",
        "Since we want to predict the number of cigarette sales at Cowboy cigarettes, and `y` is typically used to signify a predictor variable, let's create a new variable called `y` and assign the indexed #Passenger column. "
      ]
    },
    {
      "cell_type": "code",
      "execution_count": 22,
      "metadata": {
        "id": "_SJWa0MoW4Ua",
        "outputId": "062cb986-4afd-445d-a918-65b35814756c",
        "colab": {
          "base_uri": "https://localhost:8080/"
        }
      },
      "outputs": [
        {
          "output_type": "execute_result",
          "data": {
            "text/plain": [
              "Month\n",
              "1949-01-01    1000112\n",
              "1949-02-01    1000118\n",
              "1949-03-01    1000132\n",
              "1949-04-01    1000129\n",
              "1949-05-01    1000121\n",
              "Name: #CigSales, dtype: int64"
            ]
          },
          "metadata": {},
          "execution_count": 22
        }
      ],
      "source": [
        "y = cigData['#CigSales']\n",
        "y.head()"
      ]
    },
    {
      "cell_type": "markdown",
      "metadata": {
        "id": "UIC6bfstW4Ua"
      },
      "source": [
        "Check the type of our new variable. "
      ]
    },
    {
      "cell_type": "code",
      "execution_count": 23,
      "metadata": {
        "id": "ZmRNYlwvW4Ua",
        "outputId": "c611e2cb-6c41-4fa1-96f8-145ea19010ad",
        "colab": {
          "base_uri": "https://localhost:8080/"
        }
      },
      "outputs": [
        {
          "output_type": "execute_result",
          "data": {
            "text/plain": [
              "pandas.core.series.Series"
            ]
          },
          "metadata": {},
          "execution_count": 23
        }
      ],
      "source": [
        "type(y)"
      ]
    },
    {
      "cell_type": "markdown",
      "metadata": {
        "id": "CcZtywBLW4Ua"
      },
      "source": [
        "### 2e. Getting summary statistics for `y`"
      ]
    },
    {
      "cell_type": "markdown",
      "metadata": {
        "id": "GhzJj2bRW4Ua"
      },
      "source": [
        "Get the summary statistics of our data here. "
      ]
    },
    {
      "cell_type": "code",
      "execution_count": 24,
      "metadata": {
        "scrolled": true,
        "id": "lt1nfUNaW4Ub",
        "outputId": "63ec621b-8980-4274-eb4d-892a81cb8264",
        "colab": {
          "base_uri": "https://localhost:8080/"
        }
      },
      "outputs": [
        {
          "output_type": "execute_result",
          "data": {
            "text/plain": [
              "count    1.440000e+02\n",
              "mean     1.000280e+06\n",
              "std      1.199663e+02\n",
              "min      1.000104e+06\n",
              "25%      1.000180e+06\n",
              "50%      1.000266e+06\n",
              "75%      1.000360e+06\n",
              "max      1.000622e+06\n",
              "Name: #CigSales, dtype: float64"
            ]
          },
          "metadata": {},
          "execution_count": 24
        }
      ],
      "source": [
        "y.describe()"
      ]
    },
    {
      "cell_type": "markdown",
      "metadata": {
        "id": "FKQFeQcsW4Ub"
      },
      "source": [
        "Try visualizing the data. A simple `matplotlib` plot should do the trick.  "
      ]
    },
    {
      "cell_type": "markdown",
      "metadata": {
        "id": "L3pg3iDPW4Ub"
      },
      "source": [
        "### 2f. Plotting `y`"
      ]
    },
    {
      "cell_type": "code",
      "execution_count": 26,
      "metadata": {
        "id": "LNN5w4LXW4Ub",
        "outputId": "6f88e473-54fa-4700-bec3-880130a24929",
        "colab": {
          "base_uri": "https://localhost:8080/",
          "height": 416
        }
      },
      "outputs": [
        {
          "output_type": "execute_result",
          "data": {
            "text/plain": [
              "<matplotlib.axes._subplots.AxesSubplot at 0x7f86fa2ae1d0>"
            ]
          },
          "metadata": {},
          "execution_count": 26
        },
        {
          "output_type": "display_data",
          "data": {
            "text/plain": [
              "<Figure size 864x432 with 1 Axes>"
            ],
            "image/png": "[encoded data removed]"
          },
          "metadata": {
            "needs_background": "light"
          }
        }
      ],
      "source": [
        "y.plot(grid=True, figsize=(12,6), color='pink')"
      ]
    },
    {
      "cell_type": "markdown",
      "metadata": {
        "id": "lSEcfftGW4Ub"
      },
      "source": [
        "## 3. Modelling \n",
        "### 3a. Decomposition\n",
        "What do you notice from the plot? Take at least `2` minutes to examine the plot, and write down everything you observe.  \n",
        "\n",
        "All done?\n",
        "\n",
        "We can see that, generally, there is a trend upwards in cigarette sales from at Cowboy Cigarettes. But there are also some striking - and perhaps unexpected - seasonal fluctuations. These seasonal fluctations come in a repeated pattern. Work out when these seasonal fluctuations are happening, and take 2 minutes to hypothesize on their cause here.\n",
        "\n",
        "What does it mean to *decompose* time series data? It means breaking that data into 3 components: \n",
        "\n",
        "1. **Trend**: The overall direction that the data is travelling in (like upwards or downwards)\n",
        "2. **Seasonality**: Cyclical patterns in the data \n",
        "3. **Noise**: The random variation in the data\n",
        "\n",
        "We can treat these components differently, depending on the question and what's appropriate in the context. They can either be added together in an *additive* model, or multiplied together in a *multiplicative* model. \n",
        "\n",
        "Make a coffee, take `5` minutes and read [this article](https://medium.com/@sigmundojr/seasonality-in-python-additive-or-multiplicative-model-d4b9cf1f48a7) and think about whether our data would conduce to an additive or multiplicative model here. Write your conclusion down just here: \n",
        "\n",
        "-------------------------------"
      ]
    },
    {
      "cell_type": "markdown",
      "metadata": {
        "id": "KDFwFDeNW4Uc"
      },
      "source": [
        "All done? Well, just on the basis of the plot above, it seems our Cowboy Cigarettes data is actually multiplicative. \n",
        "\n",
        "That's because, as time progresses, the general trend seems to be increasing *at a rate that's also increasing*. We also see that the seasonal fluctuations (the peaks and troughs) get bigger and bigger as time progresses.\n",
        "\n",
        "Now on the other hand, if the data were simply additive, we could expect the general trend to increase at a *steadily*, and a constant speed; and also for seasonal ups and downs not to increase or decrease in extent over time.\n",
        "\n",
        "Happily, we can use the `decompose()` function to quantify the component parts described above in our data."
      ]
    },
    {
      "cell_type": "code",
      "execution_count": 27,
      "metadata": {
        "scrolled": true,
        "id": "jGryfJg0W4Uc",
        "outputId": "a8a33fb1-68f3-43e6-8bd0-990f69b9172a",
        "colab": {
          "base_uri": "https://localhost:8080/",
          "height": 369
        }
      },
      "outputs": [
        {
          "output_type": "display_data",
          "data": {
            "text/plain": [
              "<Figure size 720x360 with 4 Axes>"
            ],
            "image/png": "[encoded data removed]"
          },
          "metadata": {
            "needs_background": "light"
          }
        }
      ],
      "source": [
        "# Import seasonal_decompose\n",
        "from statsmodels.tsa.seasonal import seasonal_decompose\n",
        "decomposition = seasonal_decompose(y)\n",
        "\n",
        "# Make three variables for trend, seasonal and residual components respectively. \n",
        "# Assign them the relevant features of decomposition \n",
        "trend = decomposition.trend\n",
        "seasonal = decomposition.seasonal\n",
        "residual = decomposition.resid\n",
        "\n",
        "# Plot the original data, the trend, the seasonality, and the residuals \n",
        "plt.subplot(411)\n",
        "plt.plot(y, label = 'Trend Decomposition')\n",
        "plt.legend(loc = 'best')\n",
        "plt.subplot(412)\n",
        "plt.plot(trend, label = 'Trend')\n",
        "plt.legend(loc = 'best')\n",
        "plt.subplot(413)\n",
        "plt.plot(seasonal, label = 'seasonal')\n",
        "plt.legend(loc = 'best')\n",
        "plt.subplot(414)\n",
        "plt.plot(residual, label = 'Residuals')\n",
        "plt.legend(loc = 'best')\n",
        "plt.tight_layout()"
      ]
    },
    {
      "cell_type": "markdown",
      "metadata": {
        "id": "Dx6te-eHW4Uc"
      },
      "source": [
        "### 3b. Testing for stationarity with KPSS\n",
        "As you know, when doing time series analysis we always have to check for stationarity. Imprecisely, a time series dataset is stationary just if its statistical features don't change over time. A little more precisely, a stationary time series dataset will have constant mean, variance, and covariance.\n",
        "\n",
        "There are many ways to test for stationarity, but one of the most common is the KPSS test. The Null hypothesis of this test is that the time series data in question is stationary; hence, if the *p*-value is less than the significance level (typically 0.05, but we decide) then we reject the Null and infer that the data is not stationary."
      ]
    },
    {
      "cell_type": "code",
      "execution_count": 28,
      "metadata": {
        "scrolled": true,
        "id": "I5EePkNHW4Uc",
        "outputId": "5fb34a6a-df36-49af-f9f1-b2821648f577",
        "colab": {
          "base_uri": "https://localhost:8080/"
        }
      },
      "outputs": [
        {
          "output_type": "execute_result",
          "data": {
            "text/plain": [
              "(1.651312235417082,\n",
              " 0.01,\n",
              " 8,\n",
              " {'1%': 0.739, '10%': 0.347, '2.5%': 0.574, '5%': 0.463})"
            ]
          },
          "metadata": {},
          "execution_count": 28
        }
      ],
      "source": [
        "from statsmodels.tsa.stattools import kpss\n",
        "# Use kpss()\n",
        "kpss(y)\n"
      ]
    },
    {
      "cell_type": "code",
      "execution_count": 29,
      "metadata": {
        "id": "4zOsDWtCW4Uc",
        "outputId": "fed32ce3-00a8-4eb0-9b65-110347bc548f",
        "colab": {
          "base_uri": "https://localhost:8080/"
        }
      },
      "outputs": [
        {
          "output_type": "stream",
          "name": "stdout",
          "text": [
            "(0.8153688792064031, 0.9918802434376466, 13, 130, {'1%': -3.4816817173418295, '5%': -2.8840418343195267, '10%': -2.578770059171598}, 996.6929308390149)\n",
            "The p-value of the test on prices is: 0.9918802434376466\n",
            "test statistic : 0.8153688792064031\n"
          ]
        }
      ],
      "source": [
        "# Import the adfuller module from statsmodels.\n",
        "from statsmodels.tsa.stattools import adfuller\n",
        "# Run the Augmented Dickey-Fuller test on the series of closing stock prices, \n",
        "results = adfuller(y)\n",
        "\n",
        "# Print out the entire output, which includes the test statistic, the p-values, and the critical values for tests with 1%, 10%, and 5% levels.\n",
        "print(results)\n",
        "\n",
        "# Print out just the p-value of the test (results[0] is the test statistic, and results[1] is the p-value).\n",
        "print('The p-value of the test on prices is: ' + str(results[1]))\n",
        "print(\"test statistic : \"  + str(results[0]))\n"
      ]
    },
    {
      "cell_type": "markdown",
      "metadata": {
        "id": "4xER3d4mW4Ud"
      },
      "source": [
        "Since our p-value is less than 0.05, we should reject the Null hypothesis and deduce the non-stationarity of our data. \n",
        "\n",
        "But our data need to be stationary! So we need to do some transforming."
      ]
    },
    {
      "cell_type": "markdown",
      "metadata": {
        "id": "jpRRAbaNW4Ud"
      },
      "source": [
        "### 3c. Making the data stationary \n",
        "Let's recall what it looks like. "
      ]
    },
    {
      "cell_type": "code",
      "execution_count": 30,
      "metadata": {
        "id": "ndvhfc29W4Ud",
        "outputId": "3998ce50-70a7-4571-f44b-30707c2a6487",
        "colab": {
          "base_uri": "https://localhost:8080/"
        }
      },
      "outputs": [
        {
          "output_type": "execute_result",
          "data": {
            "text/plain": [
              "Month\n",
              "1949-01-01    1000112\n",
              "1949-02-01    1000118\n",
              "1949-03-01    1000132\n",
              "1949-04-01    1000129\n",
              "1949-05-01    1000121\n",
              "Name: #CigSales, dtype: int64"
            ]
          },
          "metadata": {},
          "execution_count": 30
        }
      ],
      "source": [
        "y.head()"
      ]
    },
    {
      "cell_type": "markdown",
      "metadata": {
        "id": "ulpLkUFUW4Ud"
      },
      "source": [
        "In our plot, we can see that both the mean and the variance *increase as time progresses*. At the moment, our data has neither a constant mean, nor a constant variance (the covariance, however, seems constant). \n",
        "\n",
        "One ofte  used way of getting rid of changing variance is to take the natural log of all the values in our dataset. Let's do this now. "
      ]
    },
    {
      "cell_type": "code",
      "execution_count": 31,
      "metadata": {
        "id": "dcnlT7EAW4Ud"
      },
      "outputs": [],
      "source": [
        "y_log = np.log(y)"
      ]
    },
    {
      "cell_type": "markdown",
      "metadata": {
        "id": "w6GUdY9fW4Ud"
      },
      "source": [
        "\n",
        "When you plot this, you can see how the variance in our data now remains contant over time."
      ]
    },
    {
      "cell_type": "code",
      "execution_count": 32,
      "metadata": {
        "scrolled": true,
        "id": "jM08EQoyW4Ud",
        "outputId": "15d85898-53c4-4b39-ee1b-f5eec0e36b6d",
        "colab": {
          "base_uri": "https://localhost:8080/",
          "height": 362
        }
      },
      "outputs": [
        {
          "output_type": "execute_result",
          "data": {
            "text/plain": [
              "<matplotlib.axes._subplots.AxesSubplot at 0x7f86f73df590>"
            ]
          },
          "metadata": {},
          "execution_count": 32
        },
        {
          "output_type": "display_data",
          "data": {
            "text/plain": [
              "<Figure size 720x360 with 1 Axes>"
            ],
            "image/png": "[encoded data removed]"
          },
          "metadata": {
            "needs_background": "light"
          }
        }
      ],
      "source": [
        "y_log.plot(grid=True)"
      ]
    },
    {
      "cell_type": "markdown",
      "metadata": {
        "id": "IM0KX34IW4Ue"
      },
      "source": [
        "We now have a constant variance, but we also need a constant mean.\n",
        "\n",
        "We can do this by *differencing* our data. We difference a time series dataset when we create a new time series comprising the difference between the values of our existing dataset.\n",
        "\n",
        "Python is powerful, and we can use the `diff()` function to do this. You'll notice there's one less value than our existing dataset (since we're taking the difference between the existing values)."
      ]
    },
    {
      "cell_type": "code",
      "execution_count": 33,
      "metadata": {
        "scrolled": true,
        "id": "WxzzVxUaW4Ue",
        "outputId": "b522eda3-8a65-4dde-fa06-c18766928fd2",
        "colab": {
          "base_uri": "https://localhost:8080/",
          "height": 336
        }
      },
      "outputs": [
        {
          "output_type": "display_data",
          "data": {
            "text/plain": [
              "<Figure size 720x360 with 1 Axes>"
            ],
            "image/png": "[encoded data removed]"
          },
          "metadata": {
            "needs_background": "light"
          }
        }
      ],
      "source": [
        "\n",
        "# Create a new DataFrame of seasonally adjusted earnings by taking the lag-4 difference of quarterly earnings using the .diff() method.\n",
        "y_log = y_log.diff()\n",
        "\n",
        "# Examine the first 10 rows of the seasonally adjusted DataFrame and notice that the first four rows are NaN.\n",
        "y_log.head(10)\n",
        "\n",
        "# Drop the NaN rows using the .dropna() method.\n",
        "y_log = y_log.dropna()\n",
        "\n",
        "# Plot the autocorrelation function of the seasonally adjusted DataFrame.\n",
        "plot_acf(y_log)\n",
        "plt.show()"
      ]
    },
    {
      "cell_type": "code",
      "execution_count": 34,
      "metadata": {
        "id": "ra0UalFPW4Uf",
        "outputId": "1fbf6253-7097-4854-b473-5136c27770db",
        "colab": {
          "base_uri": "https://localhost:8080/"
        }
      },
      "outputs": [
        {
          "output_type": "execute_result",
          "data": {
            "text/plain": [
              "(0.02389767420757056,\n",
              " 0.1,\n",
              " 7,\n",
              " {'1%': 0.739, '10%': 0.347, '2.5%': 0.574, '5%': 0.463})"
            ]
          },
          "metadata": {},
          "execution_count": 34
        }
      ],
      "source": [
        "kpss(y_log)"
      ]
    },
    {
      "cell_type": "markdown",
      "metadata": {
        "id": "dfj5yGP2W4Uf"
      },
      "source": [
        "Our p-value is now greater than 0.05, so we can accept the null hypothesis that our data is stationary."
      ]
    },
    {
      "cell_type": "markdown",
      "metadata": {
        "id": "9wor2xKbW4Uf"
      },
      "source": [
        "### 3d. The ARIMA model\n",
        "\n",
        "Recall that ARIMA models are based around the idea that it's possible to predict the next value in a time series by using information about the most recent data points. It also assumes there will be some randomness in our data that can't ever be predicted.\n",
        "\n",
        "We can find some good parameters for our model using the `sklearn` and `statsmodels` libraries, and in particular `mean_squared_error` and `ARIMA`. "
      ]
    },
    {
      "cell_type": "code",
      "execution_count": 35,
      "metadata": {
        "id": "eP2Z27bgW4Uf"
      },
      "outputs": [],
      "source": [
        "# Import mean_squared_error and ARIMA\n",
        "from sklearn.metrics import mean_squared_error\n",
        "from statsmodels.tsa.arima.model import ARIMA"
      ]
    },
    {
      "cell_type": "markdown",
      "metadata": {
        "id": "fjfXMwUaW4Uf"
      },
      "source": [
        "#### 3di. Make a function to find the MSE of a single ARIMA model\n",
        "Things get intricate here. Don't worry if you can't do this yourself and need to drop down a Tier. "
      ]
    },
    {
      "cell_type": "code",
      "execution_count": 36,
      "metadata": {
        "id": "Jvip_GVeW4Ug"
      },
      "outputs": [],
      "source": [
        "# Make a function called evaluate_arima_model to find the MSE of a single ARIMA model \n",
        "def mse(data, arima_order):\n",
        "    # Needs to be an integer because it is later used as an index.\n",
        "    # Use int()\n",
        "    split = int(len(data) * 0.8) \n",
        "    # Make train and test variables, with 'train, test'\n",
        "    train, test = data[0:split], data[split:len(data)]\n",
        "    past=[x for x in train]\n",
        "    # make predictions\n",
        "    predictions = list()\n",
        "    for i in range(len(test)):#timestep-wise comparison between test data and one-step prediction ARIMA model. \n",
        "        model = ARIMA(past, order=arima_order)\n",
        "        model_fit = model.fit()\n",
        "        future = model_fit.forecast()[0]\n",
        "        predictions.append(future)\n",
        "        past.append(test[i])\n",
        "    # calculate out of sample error\n",
        "    error = mean_squared_error(test, predictions)\n",
        "    # Return the error\n",
        "    return error\n"
      ]
    },
    {
      "cell_type": "markdown",
      "metadata": {
        "id": "7r74PkCFW4Ug"
      },
      "source": [
        "#### 3dii. Make a function to evaluate the different ARIMA models with different p, d, and q values"
      ]
    },
    {
      "cell_type": "code",
      "source": [
        "import warnings\n",
        "warnings.filterwarnings('ignore')"
      ],
      "metadata": {
        "id": "ONZRcA6scg-U"
      },
      "execution_count": 37,
      "outputs": []
    },
    {
      "cell_type": "code",
      "execution_count": 38,
      "metadata": {
        "id": "5NFjyWVbW4Ug"
      },
      "outputs": [],
      "source": [
        "# Make a function to evaluate different ARIMA models with several different p, d, and q values.\n",
        "def evaluate_models(dataset, p_values, d_values, q_values):\n",
        "    best_score, best_cfg = float(\"inf\"), None\n",
        "    # Iterate through p_values\n",
        "    for p in p_values:\n",
        "        # Iterate through d_values\n",
        "        for d in d_values:\n",
        "            # Iterate through q_values\n",
        "            for q in q_values:\n",
        "                # p, d, q iterator variables in that order\n",
        "                order = (p, d, q)\n",
        "                try:\n",
        "                    # Make a variable called mse for the Mean squared error\n",
        "                    err = mse(dataset, order)\n",
        "                    if err < best_score:\n",
        "                        best_score, best_cfg = err, order\n",
        "                    print('ARIMA%s MSE=', (order,err))\n",
        "                except:\n",
        "                    continue\n",
        "    return print('Best ARIMA%s MSE=',(best_cfg, best_score))"
      ]
    },
    {
      "cell_type": "code",
      "execution_count": 39,
      "metadata": {
        "id": "8oJ8_JgnW4Ug"
      },
      "outputs": [],
      "source": [
        "# Now, we choose a couple of values to try for each parameter.\n",
        "p_values = [x for x in range(0, 3)]\n",
        "d_values = [x for x in range(0, 3)]\n",
        "q_values = [x for x in range(0, 3)]"
      ]
    },
    {
      "cell_type": "code",
      "execution_count": 40,
      "metadata": {
        "scrolled": false,
        "id": "MbQAlzdHW4Ug",
        "outputId": "dd7017c4-337a-4602-c631-354662654321",
        "colab": {
          "base_uri": "https://localhost:8080/"
        }
      },
      "outputs": [
        {
          "output_type": "stream",
          "name": "stdout",
          "text": [
            "ARIMA%s MSE= ((0, 0, 0), 2.7653068987080697e-09)\n",
            "ARIMA%s MSE= ((0, 0, 1), 2.4770429868730065e-09)\n",
            "ARIMA%s MSE= ((0, 0, 2), 2.596189202262695e-09)\n",
            "ARIMA%s MSE= ((0, 1, 0), 3.7381188523824365e-09)\n",
            "ARIMA%s MSE= ((0, 1, 1), 3.5839482185442326e-09)\n",
            "ARIMA%s MSE= ((0, 1, 2), 3.2855335413909153e-09)\n",
            "ARIMA%s MSE= ((0, 2, 0), 8.080476664035168e-09)\n",
            "ARIMA%s MSE= ((0, 2, 1), 5.069253618174586e-09)\n",
            "ARIMA%s MSE= ((0, 2, 2), 8.09412177293369e-09)\n",
            "ARIMA%s MSE= ((1, 0, 0), 2.523742329180495e-09)\n",
            "ARIMA%s MSE= ((1, 0, 1), 2.4732099155627017e-09)\n",
            "ARIMA%s MSE= ((1, 0, 2), 2.321944091139164e-09)\n",
            "ARIMA%s MSE= ((1, 1, 0), 3.725382217320087e-09)\n",
            "ARIMA%s MSE= ((1, 1, 1), 3.335757518784869e-09)\n",
            "ARIMA%s MSE= ((1, 1, 2), 3.346035752160406e-09)\n",
            "ARIMA%s MSE= ((1, 2, 0), 6.26220102601612e-09)\n",
            "ARIMA%s MSE= ((1, 2, 1), 5.040848865852399e-09)\n",
            "ARIMA%s MSE= ((1, 2, 2), 7.848122703465519e-09)\n",
            "ARIMA%s MSE= ((2, 0, 0), 2.4563514238586485e-09)\n",
            "ARIMA%s MSE= ((2, 0, 1), 2.27344603877524e-09)\n",
            "ARIMA%s MSE= ((2, 0, 2), 2.3365575308098036e-09)\n",
            "ARIMA%s MSE= ((2, 1, 0), 3.7065576312700635e-09)\n",
            "ARIMA%s MSE= ((2, 1, 1), 3.5367185317417847e-09)\n",
            "ARIMA%s MSE= ((2, 1, 2), 3.4360343534484352e-09)\n",
            "ARIMA%s MSE= ((2, 2, 0), 6.258419126833165e-09)\n",
            "ARIMA%s MSE= ((2, 2, 1), 5.633283162881158e-09)\n",
            "ARIMA%s MSE= ((2, 2, 2), 7.579971840703938e-09)\n",
            "Best ARIMA%s MSE= ((2, 0, 1), 2.27344603877524e-09)\n"
          ]
        }
      ],
      "source": [
        "# Finally, we can find the optimum ARIMA model for our data.\n",
        "# Nb. this can take a while...!\n",
        "evaluate_models(y_log, p_values, d_values, q_values)"
      ]
    },
    {
      "cell_type": "markdown",
      "metadata": {
        "id": "b2W-I3evW4Ug"
      },
      "source": [
        "So the best p,d, q, parameters for our ARIMA model are 2, 1, 1 respectively. Now we know this, we can build the model."
      ]
    },
    {
      "cell_type": "code",
      "execution_count": 41,
      "metadata": {
        "id": "gtIv4BFqW4Uh"
      },
      "outputs": [],
      "source": [
        "p = 2\n",
        "d = 1\n",
        "q = 1\n",
        "model = ARIMA(y_log, order=(p,d,q))\n",
        "model_fit = model.fit()\n",
        "forecast = model_fit.forecast(24)"
      ]
    },
    {
      "cell_type": "markdown",
      "metadata": {
        "id": "gzTNjqrTW4Uh"
      },
      "source": [
        "We can take a look at a summary of the model this library has built around our data."
      ]
    },
    {
      "cell_type": "code",
      "execution_count": 42,
      "metadata": {
        "scrolled": false,
        "id": "cc7kdJ4qW4Uh",
        "outputId": "dc76b594-8b8f-4127-97e0-04d46cceb00a",
        "colab": {
          "base_uri": "https://localhost:8080/",
          "height": 469
        }
      },
      "outputs": [
        {
          "output_type": "execute_result",
          "data": {
            "text/plain": [
              "<class 'statsmodels.iolib.summary.Summary'>\n",
              "\"\"\"\n",
              "                               SARIMAX Results                                \n",
              "==============================================================================\n",
              "Dep. Variable:              #CigSales   No. Observations:                  143\n",
              "Model:                 ARIMA(2, 1, 1)   Log Likelihood                1249.733\n",
              "Date:                Thu, 12 May 2022   AIC                          -2491.467\n",
              "Time:                        19:48:49   BIC                          -2479.644\n",
              "Sample:                    02-01-1949   HQIC                         -2486.662\n",
              "                         - 12-01-1960                                         \n",
              "Covariance Type:                  opg                                         \n",
              "==============================================================================\n",
              "                 coef    std err          z      P>|z|      [0.025      0.975]\n",
              "------------------------------------------------------------------------------\n",
              "ar.L1          0.4017   2.14e-19   1.88e+18      0.000       0.402       0.402\n",
              "ar.L2         -0.1224   5.74e-19  -2.13e+17      0.000      -0.122      -0.122\n",
              "ma.L1         -0.7036   5.47e-19  -1.29e+18      0.000      -0.704      -0.704\n",
              "sigma2      1.207e-09   2.65e-10      4.546      0.000    6.86e-10    1.73e-09\n",
              "===================================================================================\n",
              "Ljung-Box (L1) (Q):                   3.48   Jarque-Bera (JB):                 4.07\n",
              "Prob(Q):                              0.06   Prob(JB):                         0.13\n",
              "Heteroskedasticity (H):               7.70   Skew:                            -0.07\n",
              "Prob(H) (two-sided):                  0.00   Kurtosis:                         3.82\n",
              "===================================================================================\n",
              "\n",
              "Warnings:\n",
              "[1] Covariance matrix calculated using the outer product of gradients (complex-step).\n",
              "[2] Covariance matrix is singular or near-singular, with condition number    inf. Standard errors may be unstable.\n",
              "\"\"\""
            ],
            "text/html": [
              "<table class=\"simpletable\">\n",
              "<caption>SARIMAX Results</caption>\n",
              "<tr>\n",
              "  <th>Dep. Variable:</th>       <td>#CigSales</td>    <th>  No. Observations:  </th>    <td>143</td>   \n",
              "</tr>\n",
              "<tr>\n",
              "  <th>Model:</th>            <td>ARIMA(2, 1, 1)</td>  <th>  Log Likelihood     </th> <td>1249.733</td> \n",
              "</tr>\n",
              "<tr>\n",
              "  <th>Date:</th>            <td>Thu, 12 May 2022</td> <th>  AIC                </th> <td>-2491.467</td>\n",
              "</tr>\n",
              "<tr>\n",
              "  <th>Time:</th>                <td>19:48:49</td>     <th>  BIC                </th> <td>-2479.644</td>\n",
              "</tr>\n",
              "<tr>\n",
              "  <th>Sample:</th>             <td>02-01-1949</td>    <th>  HQIC               </th> <td>-2486.662</td>\n",
              "</tr>\n",
              "<tr>\n",
              "  <th></th>                   <td>- 12-01-1960</td>   <th>                     </th>     <td> </td>    \n",
              "</tr>\n",
              "<tr>\n",
              "  <th>Covariance Type:</th>        <td>opg</td>       <th>                     </th>     <td> </td>    \n",
              "</tr>\n",
              "</table>\n",
              "<table class=\"simpletable\">\n",
              "<tr>\n",
              "     <td></td>       <th>coef</th>     <th>std err</th>      <th>z</th>      <th>P>|z|</th>  <th>[0.025</th>    <th>0.975]</th>  \n",
              "</tr>\n",
              "<tr>\n",
              "  <th>ar.L1</th>  <td>    0.4017</td> <td> 2.14e-19</td> <td> 1.88e+18</td> <td> 0.000</td> <td>    0.402</td> <td>    0.402</td>\n",
              "</tr>\n",
              "<tr>\n",
              "  <th>ar.L2</th>  <td>   -0.1224</td> <td> 5.74e-19</td> <td>-2.13e+17</td> <td> 0.000</td> <td>   -0.122</td> <td>   -0.122</td>\n",
              "</tr>\n",
              "<tr>\n",
              "  <th>ma.L1</th>  <td>   -0.7036</td> <td> 5.47e-19</td> <td>-1.29e+18</td> <td> 0.000</td> <td>   -0.704</td> <td>   -0.704</td>\n",
              "</tr>\n",
              "<tr>\n",
              "  <th>sigma2</th> <td> 1.207e-09</td> <td> 2.65e-10</td> <td>    4.546</td> <td> 0.000</td> <td> 6.86e-10</td> <td> 1.73e-09</td>\n",
              "</tr>\n",
              "</table>\n",
              "<table class=\"simpletable\">\n",
              "<tr>\n",
              "  <th>Ljung-Box (L1) (Q):</th>     <td>3.48</td> <th>  Jarque-Bera (JB):  </th> <td>4.07</td> \n",
              "</tr>\n",
              "<tr>\n",
              "  <th>Prob(Q):</th>                <td>0.06</td> <th>  Prob(JB):          </th> <td>0.13</td> \n",
              "</tr>\n",
              "<tr>\n",
              "  <th>Heteroskedasticity (H):</th> <td>7.70</td> <th>  Skew:              </th> <td>-0.07</td>\n",
              "</tr>\n",
              "<tr>\n",
              "  <th>Prob(H) (two-sided):</th>    <td>0.00</td> <th>  Kurtosis:          </th> <td>3.82</td> \n",
              "</tr>\n",
              "</table><br/><br/>Warnings:<br/>[1] Covariance matrix calculated using the outer product of gradients (complex-step).<br/>[2] Covariance matrix is singular or near-singular, with condition number    inf. Standard errors may be unstable."
            ]
          },
          "metadata": {},
          "execution_count": 42
        }
      ],
      "source": [
        "model_fit.summary()"
      ]
    },
    {
      "cell_type": "markdown",
      "metadata": {
        "id": "RdlxRt-9W4Uh"
      },
      "source": [
        "### 3e. Visualize the results \n",
        "\n",
        "Visualize the original dataset plotted against our model. "
      ]
    },
    {
      "cell_type": "code",
      "execution_count": 43,
      "metadata": {
        "id": "nDq8PI6PW4Uh",
        "outputId": "145a6870-a55a-4061-c4ba-fc1109eec053",
        "colab": {
          "base_uri": "https://localhost:8080/",
          "height": 337
        }
      },
      "outputs": [
        {
          "output_type": "execute_result",
          "data": {
            "text/plain": [
              "[<matplotlib.lines.Line2D at 0x7f86f5838090>]"
            ]
          },
          "metadata": {},
          "execution_count": 43
        },
        {
          "output_type": "display_data",
          "data": {
            "text/plain": [
              "<Figure size 720x360 with 1 Axes>"
            ],
            "image/png": "[encoded data removed]"
          },
          "metadata": {
            "needs_background": "light"
          }
        }
      ],
      "source": [
        "# Call figure() and plot() on the plt\n",
        "plt.plot(figsize=(15,10))\n",
        "plt.plot(y_log.diff())\n",
        "plt.plot(model_fit.predict(), color = 'red')"
      ]
    },
    {
      "cell_type": "markdown",
      "metadata": {
        "id": "MFDxQWXuW4Uh"
      },
      "source": [
        "### 3f. Application: Forecasting\n",
        "\n",
        "We've done well: our model fits pretty closely to our existing data. Let's now use it to forecast what's likely to occur in future."
      ]
    },
    {
      "cell_type": "code",
      "source": [
        "forecast_period = 24\n",
        "date_range = pd.date_range(y_log.index[-1], periods = forecast_period, freq='MS').strftime(\"%Y-%m-%d\").tolist()\n",
        "\n",
        "# Convert that range into a dataframe that includes your predictions\n",
        "# First, call DataFrame on pd\n",
        "future_months = pd.DataFrame(date_range, columns = ['Month'])\n",
        "# Let's now convert the 'Month' column to a datetime object with \n",
        "#                          to_datetime \n",
        "future_months['Month'] = pd.to_datetime(future_months['Month'])\n",
        "future_months.set_index('Month', inplace = True)\n",
        "future_months['Prediction'] = forecast[0]\n",
        "\n",
        "# Plot your future predictions\n",
        "# Call figure() on plt\n",
        "plt.figure(figsize=(15,10))\n",
        "plt.plot(y_log)\n",
        "plt.plot(y_log['Nov 1960'].append(future_months['Prediction']))\n",
        "plt.show()"
      ],
      "metadata": {
        "colab": {
          "base_uri": "https://localhost:8080/",
          "height": 592
        },
        "id": "xRAztOfQexV0",
        "outputId": "e6158204-5c40-456a-f233-af2a23e9ce0d"
      },
      "execution_count": 44,
      "outputs": [
        {
          "output_type": "display_data",
          "data": {
            "text/plain": [
              "<Figure size 1080x720 with 1 Axes>"
            ],
            "image/png": "[encoded data removed]"
          },
          "metadata": {
            "needs_background": "light"
          }
        }
      ]
    },
    {
      "cell_type": "markdown",
      "metadata": {
        "id": "jHIT16XwW4Uh"
      },
      "source": [
        "## 4. Evaluating and Concluding\n",
        "\n",
        "Our model captures the centre of a line that's increasing at a remarkable rate. Cowboy Cigarettes sell more cigarettes in the summer, perhaps due to the good weather, disposable income and time off that people enjoy, and the least in the winter, when people might be spending less and enjoying less free time outdoors. \n",
        "\n",
        "Remarkably, our ARIMA model made predictions using just one variable. We can only speculate, however, on the causes of the behaviour predicted by our model. We should also take heed that spikes in data, due to sudden unusual circumstances like wars, are not handled well by ARIMA; and the outbreak of the Vietnam War in the 1960s would likely cause our model some distress.  \n",
        "\n",
        "We could suggest to our employers that, if they are interested in discovering the causes of the cigarette sales trajectory, they execute a regression analysis in addition to the time series one. "
      ]
    }
  ],
  "metadata": {
    "kernelspec": {
      "display_name": "Python 3 (ipykernel)",
      "language": "python",
      "name": "python3"
    },
    "language_info": {
      "codemirror_mode": {
        "name": "ipython",
        "version": 3
      },
      "file_extension": ".py",
      "mimetype": "text/x-python",
      "name": "python",
      "nbconvert_exporter": "python",
      "pygments_lexer": "ipython3",
      "version": "3.8.8"
    },
    "colab": {
      "name": "Copy of Copy of Cowboy Cigarettes Case Study - Tier 3.ipynb",
      "provenance": [],
      "collapsed_sections": []
    }
  },
  "nbformat": 4,
  "nbformat_minor": 0
}